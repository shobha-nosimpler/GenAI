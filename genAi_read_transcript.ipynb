{
  "nbformat": 4,
  "nbformat_minor": 0,
  "metadata": {
    "colab": {
      "provenance": [],
      "authorship_tag": "ABX9TyME7uRpbAKf1uVINqO65PUY"
    },
    "kernelspec": {
      "name": "python3",
      "display_name": "Python 3"
    },
    "language_info": {
      "name": "python"
    }
  },
  "cells": [
    {
      "cell_type": "code",
      "execution_count": null,
      "metadata": {
        "id": "SrXuFpJcAGpg"
      },
      "outputs": [],
      "source": []
    },
    {
      "cell_type": "markdown",
      "source": [
        "# Read the Quarterly Earnings transcript to assess the peformance for the quarter"
      ],
      "metadata": {
        "id": "AgIQBmx1Fylk"
      }
    },
    {
      "cell_type": "code",
      "source": [
        "# Install gdown if not already installed\n",
        "!pip install gdown"
      ],
      "metadata": {
        "id": "zxt1iBkWGYg0"
      },
      "execution_count": null,
      "outputs": []
    },
    {
      "cell_type": "code",
      "source": [
        "# Download the file using gdown\n",
        "import gdown\n",
        "\n",
        "#file_id = '1TXcNd3gemTs44r_kmoao4Snn1FfhCw8X'\n",
        "file_id ='1kJAFVLo4vtLrfelzA0_MvusAhuWws-Dr'\n",
        "url = f'https://drive.google.com/uc?id={file_id}'\n",
        "output = 'Citigroup_2024fnq1.txt'  # Specify the desired file name\n",
        "\n",
        "gdown.download(url, output, quiet=False)\n"
      ],
      "metadata": {
        "colab": {
          "base_uri": "https://localhost:8080/",
          "height": 105
        },
        "id": "B2qSqiWKMe8S",
        "outputId": "4b9636e9-9f68-4f02-fcc8-aed64c031bce"
      },
      "execution_count": 46,
      "outputs": [
        {
          "output_type": "stream",
          "name": "stderr",
          "text": [
            "Downloading...\n",
            "From: https://drive.google.com/uc?id=1kJAFVLo4vtLrfelzA0_MvusAhuWws-Dr\n",
            "To: /content/Citigroup_2024fnq1.txt\n",
            "100%|██████████| 34.5k/34.5k [00:00<00:00, 34.8MB/s]\n"
          ]
        },
        {
          "output_type": "execute_result",
          "data": {
            "text/plain": [
              "'Citigroup_2024fnq1.txt'"
            ],
            "application/vnd.google.colaboratory.intrinsic+json": {
              "type": "string"
            }
          },
          "metadata": {},
          "execution_count": 46
        }
      ]
    },
    {
      "cell_type": "code",
      "source": [
        "# Read the downloaded file\n",
        "with open(output, 'r') as f:\n",
        "    transcript = ' '.join(f.readlines())"
      ],
      "metadata": {
        "id": "7Ohy-y2FNoki"
      },
      "execution_count": 47,
      "outputs": []
    },
    {
      "cell_type": "code",
      "source": [
        "print(transcript)"
      ],
      "metadata": {
        "id": "7wxGvK32MXba"
      },
      "execution_count": null,
      "outputs": []
    },
    {
      "cell_type": "code",
      "source": [
        "print(len(transcript))"
      ],
      "metadata": {
        "colab": {
          "base_uri": "https://localhost:8080/"
        },
        "id": "FzQaVVGWMaIp",
        "outputId": "962f675d-ed6f-4f03-c124-cbe75afbff34"
      },
      "execution_count": 49,
      "outputs": [
        {
          "output_type": "stream",
          "name": "stdout",
          "text": [
            "34987\n"
          ]
        }
      ]
    },
    {
      "cell_type": "code",
      "source": [
        "!pip install openai"
      ],
      "metadata": {
        "id": "_qknlYO2ig5l"
      },
      "execution_count": null,
      "outputs": []
    },
    {
      "cell_type": "code",
      "source": [
        "import openai"
      ],
      "metadata": {
        "id": "Ey8NjwNVihCl"
      },
      "execution_count": 50,
      "outputs": []
    },
    {
      "cell_type": "code",
      "source": [
        "# pass secret key for authentication\n",
        "api_key = input(\"Enter your API key: \")\n",
        "openai.api_key = api_key"
      ],
      "metadata": {
        "id": "vM-V67y-ihL3"
      },
      "execution_count": null,
      "outputs": []
    },
    {
      "cell_type": "code",
      "source": [
        "# base instruction\n",
        "base_instruction ='''Your are a helful assistant who helps financial analysts retrieve\n",
        "relevant financial and business realted information form documents.\n",
        "Given below si a question and the transcritp of an earnings call of a bank, Citigroup,\n",
        "which was attended by the top management of the firm.\n",
        "Try to respond with specific numbers and facts wherever possible.\n",
        "If you are not sure about the accuracy of the information, just respond that you do not know.\n",
        "Output the answer in small paragraphs, with proper new lines, and use bullet points whereever needed.'''"
      ],
      "metadata": {
        "id": "4y6XKZNkObCZ"
      },
      "execution_count": 52,
      "outputs": []
    },
    {
      "cell_type": "markdown",
      "source": [
        "# Topic 1 : Financial Performance\n",
        "## Revenue and Profitability\n",
        "\n",
        "  What were the main drivers behind the\n",
        "revenue and net income growth (or decline) this quarter?\n",
        "\n",
        "  How does the current quarter's performance compare to the same quarter last year?"
      ],
      "metadata": {
        "id": "g8NkILL6a64I"
      }
    },
    {
      "cell_type": "code",
      "source": [
        "topic1 = \"Revenue and Profitability\""
      ],
      "metadata": {
        "id": "edBqiG6Ka5pC"
      },
      "execution_count": 53,
      "outputs": []
    },
    {
      "cell_type": "code",
      "source": [
        "question1 = \"What were the main drivers behind the revenue and net income growth (or decline) this quarter?\""
      ],
      "metadata": {
        "id": "phtcXJaua5sv"
      },
      "execution_count": 54,
      "outputs": []
    },
    {
      "cell_type": "code",
      "source": [
        "prompt11 = f\"\"\"{base_instruction}\n",
        "Topic: {topic1}\n",
        "Question: {question1}\n",
        "Transcript: {transcript}\"\"\""
      ],
      "metadata": {
        "id": "cp853rDja5wI"
      },
      "execution_count": 55,
      "outputs": []
    },
    {
      "cell_type": "code",
      "source": [
        "print(prompt11)"
      ],
      "metadata": {
        "id": "quxN-8ZOa5zl"
      },
      "execution_count": null,
      "outputs": []
    },
    {
      "cell_type": "code",
      "source": [
        "message11 = [{\"role\": \"user\", \"content\": prompt11}]"
      ],
      "metadata": {
        "id": "l6J1_SeAdX2-"
      },
      "execution_count": 57,
      "outputs": []
    },
    {
      "cell_type": "code",
      "source": [
        "# print(message11)"
      ],
      "metadata": {
        "id": "9KHcAmAMdYI-"
      },
      "execution_count": null,
      "outputs": []
    },
    {
      "cell_type": "code",
      "source": [
        "chat_response11 = openai.chat.completions.create(\n",
        "    model=\"gpt-3.5-turbo-16k\",\n",
        "    messages=message11,\n",
        "    max_tokens=1000,\n",
        "    temperature=0.5,\n",
        "    n=1,\n",
        "    stop=None,\n",
        "    frequency_penalty=0,\n",
        "    presence_penalty=0)"
      ],
      "metadata": {
        "id": "pD4xGWUPdYOy"
      },
      "execution_count": 58,
      "outputs": []
    },
    {
      "cell_type": "code",
      "source": [
        "print(chat_response11.choices[0].message.content)"
      ],
      "metadata": {
        "colab": {
          "base_uri": "https://localhost:8080/"
        },
        "id": "1onO9sPodYUL",
        "outputId": "1192934c-060d-4206-d8dd-7414e8f09168"
      },
      "execution_count": 59,
      "outputs": [
        {
          "output_type": "stream",
          "name": "stdout",
          "text": [
            "The transcript does not directly provide specific numbers or facts about the main drivers behind the revenue and net income growth or decline in the quarter. However, based on the information provided, we can make the following observations:\n",
            "\n",
            "- The overall global economic performance has been consistent, with economic resiliency supported by tight labor markets and the consumer.\n",
            "- Growth is expected to slow in many markets, and conditions are generally disinflationary.\n",
            "- The U.S. is viewed as having a soft landing, while Germany is hurt by weak demand for goods and southern European countries benefit from stronger demand in services.\n",
            "- In Asia, the property market remains a concern.\n",
            "- Citigroup has undergone organizational simplification, resulting in a cleaner and simpler management structure.\n",
            "- The company has eliminated approximately 7,000 positions, generating $1.5 billion of annualized run-rate expense savings.\n",
            "- The Transformation, a multi-year effort to address issues spanning over two decades, is a top priority for Citigroup.\n",
            "- In the first quarter, Citigroup reported net income of approximately $3.4 billion, EPS of $1.58, and an RoTCE of 7.6% on over $21 billion of revenues.\n",
            "- Revenues were up over 3% year-over-year, excluding divestitures, and expenses were slightly down quarter-over-quarter.\n",
            "- Services performed well, with revenue up 8% for the quarter and fees up 10% year over year.\n",
            "- Investment Banking revenue growth was 35% and overall Banking revenue growth was 49%.\n",
            "- Wealth revenues were down in the quarter, but fees grew and the business gathered an estimated $22 billion of net new assets over the past 12 months.\n",
            "- The balance sheet is strong, with a CET1 ratio of 13.5% and Tangible Book Value per share of $86.67.\n",
            "\n",
            "Overall, while the transcript does not provide specific numbers for revenue and net income growth drivers, it indicates that Citigroup has seen growth in various areas of its business, including Services and Investment Banking. The company has also taken steps to simplify its organizational structure and reduce expenses, which has contributed to improved financial performance.\n"
          ]
        }
      ]
    },
    {
      "cell_type": "markdown",
      "source": [
        "# Topic 1:\n",
        "## Question 2 : How does the current quarter's performance compare to the same quarter last year?"
      ],
      "metadata": {
        "id": "q1tS1ORrrkFc"
      }
    },
    {
      "cell_type": "code",
      "source": [
        "question12 = \"How does the current quarter's performance compare to the same quarter last year?\""
      ],
      "metadata": {
        "id": "UEjpI5hcsCf8"
      },
      "execution_count": 60,
      "outputs": []
    },
    {
      "cell_type": "code",
      "source": [
        "prompt12 = f\"\"\"{base_instruction}\n",
        "Topic: {topic1}\n",
        "Question: {question12}\n",
        "Transcript: {transcript}\"\"\""
      ],
      "metadata": {
        "id": "Y38-2DQgsHe0"
      },
      "execution_count": 62,
      "outputs": []
    },
    {
      "cell_type": "code",
      "source": [
        "#print(prompt12)"
      ],
      "metadata": {
        "id": "m28f5yCKsHnk"
      },
      "execution_count": null,
      "outputs": []
    },
    {
      "cell_type": "code",
      "source": [
        "message12 = [{\"role\": \"user\", \"content\": prompt12}]"
      ],
      "metadata": {
        "id": "2oyzTGsMsHvW"
      },
      "execution_count": 63,
      "outputs": []
    },
    {
      "cell_type": "code",
      "source": [
        "chat_response11 = openai.chat.completions.create(\n",
        "    model=\"gpt-3.5-turbo-16k\",\n",
        "    messages=message12,\n",
        "    max_tokens=1000,\n",
        "    temperature=0.5,\n",
        "    n=1,\n",
        "    stop=None,\n",
        "    frequency_penalty=0,\n",
        "    presence_penalty=0)"
      ],
      "metadata": {
        "id": "wJY1atNHshN0"
      },
      "execution_count": 64,
      "outputs": []
    },
    {
      "cell_type": "code",
      "source": [
        "print(chat_response11.choices[0].message.content)"
      ],
      "metadata": {
        "colab": {
          "base_uri": "https://localhost:8080/"
        },
        "id": "7doHHSkishQ-",
        "outputId": "20e37c21-bddf-438f-f066-61c82a49ebca"
      },
      "execution_count": 65,
      "outputs": [
        {
          "output_type": "stream",
          "name": "stdout",
          "text": [
            "In the transcript of Citigroup's First Quarter 2024 Earnings Call, the CEO, Jane Fraser, mentioned the following information regarding the bank's performance compared to the same quarter last year:\n",
            "\n",
            "- Net income for the current quarter was approximately $3.4 billion.\n",
            "- Earnings per share (EPS) for the current quarter were $1.58.\n",
            "- Return on Tangible Common Equity (RoTCE) for the current quarter was 7.6%.\n",
            "- Revenues for the current quarter were over $21 billion, which is an increase of over 3% year-over-year, excluding divestitures.\n",
            "- The increase in revenues was primarily due to the billion-dollar gain from the India consumer sale last year.\n",
            "- Expenses for the current quarter were slightly down quarter-over-quarter, excluding the FDIC special assessments.\n",
            "- The Services business performed well, with an 8% increase in revenue for the quarter.\n",
            "- Fees for the Services business were up 10% year-over-year, driven by investments in product offerings, platforms, and client experience.\n",
            "- The Securities Services business took share again in the current quarter.\n",
            "- The Treasury and Trade Solutions (TTS) business saw cross-border activity outpacing global GDP growth, and commercial card spend remained robust.\n",
            "- Investment Banking revenue growth was 35%, driven by strong performance in Debt Capital Markets (DCM) and Equity Capital Markets (ECM).\n",
            "- The Wealth business saw a decline in revenues for the quarter but grew fees and gathered an estimated $22 billion of net new assets over the past 12 months.\n",
            "- The Wealth business is focused on rationalizing the expense base, turning on the growth engine, and enhancing platforms and capabilities.\n",
            "- The balance sheet is strong, with a CET1 ratio of 13.5% and a Tangible Book Value per share of $86.67.\n",
            "\n",
            "Overall, the current quarter's performance showed growth in revenues and attractive returns in the Services and Investment Banking businesses. The Wealth business is focused on improving its expense base and driving growth through investment revenues. The bank's balance sheet remains strong and well-positioned for the future.\n"
          ]
        }
      ]
    },
    {
      "cell_type": "code",
      "source": [],
      "metadata": {
        "id": "x_wTp6RyshaF"
      },
      "execution_count": null,
      "outputs": []
    }
  ]
}